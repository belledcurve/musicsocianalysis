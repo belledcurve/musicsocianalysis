{
 "cells": [
  {
   "cell_type": "code",
   "execution_count": 432,
   "metadata": {},
   "outputs": [],
   "source": [
    "from dotenv import load_dotenv\n",
    "import os\n",
    "import base64\n",
    "import urllib\n",
    "import requests as req\n",
    "from bs4 import BeautifulSoup as bs\n",
    "import json\n",
    "import matplotlib.pyplot as plt\n",
    "import seaborn as sns\n",
    "from PIL import Image\n",
    "\n",
    "import re\n",
    "import pandas as pd\n",
    "import numpy as np"
   ]
  },
  {
   "cell_type": "markdown",
   "metadata": {},
   "source": [
    "# priming the spotify API   "
   ]
  },
  {
   "cell_type": "markdown",
   "metadata": {},
   "source": [
    "checking for client_id and client_secret"
   ]
  },
  {
   "cell_type": "code",
   "execution_count": 433,
   "metadata": {},
   "outputs": [
    {
     "name": "stdout",
     "output_type": "stream",
     "text": [
      "482ffdd79ccc4595ae74ef0b9aa138ac 416fefa3cb614e22938fac1a37455ac6\n"
     ]
    }
   ],
   "source": [
    "load_dotenv()\t# draws from our .env file\n",
    "\n",
    "client_id = os.getenv('CLIENT_ID')\n",
    "client_secret = os.getenv('CLIENT_SECRET')\n",
    "\n",
    "\n",
    "\n",
    "print(client_id, client_secret) # checking!\n"
   ]
  },
  {
   "cell_type": "markdown",
   "metadata": {},
   "source": [
    "functions for getting token and authorized header as documented by spotify"
   ]
  },
  {
   "cell_type": "code",
   "execution_count": 434,
   "metadata": {},
   "outputs": [
    {
     "name": "stdout",
     "output_type": "stream",
     "text": [
      "BQDYLusrmusnxNKolTwGOvZ2gLF33qkPB5-ByBoVgzVpe7dg55Da8lxPrQ4h-BwXXIG40-l204KJQi9bOfA4hp-Bq62FeGoG5SpCpo0ljDOdl6a9bi0\n"
     ]
    }
   ],
   "source": [
    "def get_token():\n",
    "\tauth_string = client_id + ':' + client_secret\n",
    "\tauth_bytes = auth_string.encode('utf-8')\n",
    "\tauth_base64 = str(base64.b64encode(auth_bytes), 'utf-8')\n",
    "\turl = 'https://accounts.spotify.com/api/token'\n",
    "\theaders = {\n",
    "\t\t'Authorization' : 'Basic ' + auth_base64,\n",
    "\t\t'Content-Type' : 'application/x-www-form-urlencoded'\n",
    "\t}\n",
    "\tdata = {\n",
    "\t\t'grant_type' : 'client_credentials'\n",
    "\t}\n",
    "\tresult = req.post(url, headers = headers, data = data)\n",
    "\tjson_result = json.loads(result.content)\n",
    "\ttoken = json_result['access_token']\n",
    "\treturn token\n",
    "\n",
    "\n",
    "def get_auth_header(token):\n",
    "\treturn {'Authorization' : 'Bearer ' + token}\n",
    "\n",
    "token = get_token()\n",
    "print(token)"
   ]
  },
  {
   "cell_type": "markdown",
   "metadata": {},
   "source": [
    "we will attempt to use the given tokens and implement some simple functions to confirm that it works"
   ]
  },
  {
   "cell_type": "code",
   "execution_count": 435,
   "metadata": {},
   "outputs": [],
   "source": [
    "def search_for_artist(token : str, artist_name : str) -> dict:\n",
    "\turl = 'https://api.spotify.com/v1/search'\n",
    "\theaders = get_auth_header(token)\n",
    "\t#limit=1 limits to one artist in search\n",
    "\tquery = f'?q={artist_name}&type=artist&limit=1'\n",
    "\n",
    "\tquery_url = url + query\n",
    "\tresult = req.get(query_url, headers = headers)\n",
    "\tjson_result = json.loads(result.content)['artists']['items']\n",
    "\tif len(json_result) == 0:\n",
    "\t\tprint('no artist')\n",
    "\t\treturn None\n",
    "\t\n",
    "\treturn json_result[0]"
   ]
  },
  {
   "cell_type": "code",
   "execution_count": 436,
   "metadata": {},
   "outputs": [],
   "source": [
    "def get_songs_by_artist(token : str, artist_id : str, country : str = 'US') -> dict:\n",
    "\turl = f'https://api.spotify.com/v1/artists/{artist_id}/top-tracks?country={country}'\n",
    "\n",
    "\theaders = get_auth_header(token)\n",
    "\tresult = req.get(url, headers = headers)\n",
    "\tjson_result = json.loads(result.content)['tracks']\n",
    "\n",
    "\t# display artist image\n",
    "\tartist_url = f'https://api.spotify.com/v1/artists/{artist_id}'\n",
    "\timgresult = req.get(artist_url, headers = get_auth_header(token))\n",
    "\timg_url = json.loads(imgresult.content)['images'][2]['url']\n",
    "\turllib.request.urlretrieve(img_url, 'artist_img')\n",
    "\n",
    "\tImage.open('artist_img')\n",
    "\n",
    "\t# print artist top 10 tracks (is included in the return val)\n",
    "\tfor no, song in enumerate(json_result, 1):\n",
    "\t\tprint(f\"{no}. {song['name']}\")\n",
    "\t\n",
    "\treturn json_result"
   ]
  },
  {
   "cell_type": "code",
   "execution_count": 437,
   "metadata": {},
   "outputs": [
    {
     "data": {
      "text/plain": [
       "{'external_urls': {'spotify': 'https://open.spotify.com/artist/3HqSLMAZ3g3d5poNaI7GOU'},\n",
       " 'followers': {'href': None, 'total': 8284475},\n",
       " 'genres': ['k-pop', 'pop'],\n",
       " 'href': 'https://api.spotify.com/v1/artists/3HqSLMAZ3g3d5poNaI7GOU',\n",
       " 'id': '3HqSLMAZ3g3d5poNaI7GOU',\n",
       " 'images': [{'height': 640,\n",
       "   'url': 'https://i.scdn.co/image/ab6761610000e5eb006ff3c0136a71bfb9928d34',\n",
       "   'width': 640},\n",
       "  {'height': 320,\n",
       "   'url': 'https://i.scdn.co/image/ab67616100005174006ff3c0136a71bfb9928d34',\n",
       "   'width': 320},\n",
       "  {'height': 160,\n",
       "   'url': 'https://i.scdn.co/image/ab6761610000f178006ff3c0136a71bfb9928d34',\n",
       "   'width': 160}],\n",
       " 'name': 'IU',\n",
       " 'popularity': 69,\n",
       " 'type': 'artist',\n",
       " 'uri': 'spotify:artist:3HqSLMAZ3g3d5poNaI7GOU'}"
      ]
     },
     "execution_count": 437,
     "metadata": {},
     "output_type": "execute_result"
    }
   ],
   "source": [
    "changmo = search_for_artist(token, 'changmo')\n",
    "changmo\n",
    "iu = search_for_artist(token, 'IU')\n",
    "iu"
   ]
  },
  {
   "cell_type": "code",
   "execution_count": 438,
   "metadata": {},
   "outputs": [
    {
     "name": "stdout",
     "output_type": "stream",
     "text": [
      "1. Smoke (Prod. Dynamicduo, Padi) - Remix\n",
      "2. METEOR\n",
      "3. BAND\n",
      "4. BLUE MOON (Prod. GroovyRoom)\n",
      "5. SMF (Prod. Czaer)\n",
      "6. 아름다워\n",
      "7. 119 REMIX\n",
      "8. Maestro\n",
      "9. Selfmade Orange\n",
      "10. wish\n",
      "\n",
      "\n",
      "1. People Pt.2 (feat. IU)\n",
      "2. eight(Prod.&Feat. SUGA of BTS)\n",
      "3. LILAC\n",
      "4. Celebrity\n",
      "5. BBIBBI\n",
      "6. Blueming\n",
      "7. Can't Love You Anymore (With OHHYUK)\n",
      "8. Palette (feat. G-DRAGON)\n",
      "9. Through the Night\n",
      "10. Good day\n"
     ]
    }
   ],
   "source": [
    "songschangmo = get_songs_by_artist(token, changmo['id'])\n",
    "print('\\n')\n",
    "songsiu = get_songs_by_artist(token, iu['id'])"
   ]
  },
  {
   "cell_type": "markdown",
   "metadata": {},
   "source": [
    "now that we confirmed the token is working, we will attempt to extract necessary datas from the Spotify-created playlists:\n",
    "\n",
    "Spotify Top Hits of 2008: https://open.spotify.com/playlist/37i9dQZF1DWYuGZUE4XQXm       \n",
    "\n",
    "Spotify Top Hits of 2009: https://open.spotify.com/playlist/37i9dQZF1DX4UkKv8ED8jp   \n",
    "      \n",
    "Spotify Top Hits of 2010: https://open.spotify.com/playlist/37i9dQZF1DXc6IFF23C9jj\n",
    "\n",
    "Spotify Top Hits of 2011: https://open.spotify.com/playlist/37i9dQZF1DXcagnSNtrGuJ\n",
    "\n",
    "Spotify Top Hits of 2012: https://open.spotify.com/playlist/37i9dQZF1DX0yEZaMOXna3\n",
    "\n",
    "Spotify Top Hits of 2013: https://open.spotify.com/playlist/37i9dQZF1DX3Sp0P28SIer\n",
    "\n",
    "Spotify Top Hits of 2014: https://open.spotify.com/playlist/37i9dQZF1DX0h0QnLkMBl4\n",
    "\n",
    "Spotify Top Hits of 2015: https://open.spotify.com/playlist/37i9dQZF1DX9ukdrXQLJGZ\n",
    "\n",
    "Spotify Top Hits of 2016: https://open.spotify.com/playlist/37i9dQZF1DX8XZ6AUo9R4R\n",
    "\n",
    "Spotify Top Hits of 2017: https://open.spotify.com/playlist/37i9dQZF1DWTE7dVUebpUW\n",
    "\n",
    "Spotify Top Hits of 2018: https://open.spotify.com/playlist/37i9dQZF1DXe2bobNYDtW8\n",
    "\n",
    "Spotify Top Hits of 2019: https://open.spotify.com/playlist/37i9dQZF1DWVRSukIED0e9\n",
    "\n",
    "Spotify Top Tracks of 2020: https://open.spotify.com/playlist/37i9dQZF1DX7Jl5KP2eZaS\n",
    "\n",
    "Spotify Wrapped 2021: \n",
    "\n",
    "\n",
    "note) Spotify published playlists under the name 'Top Hits' until 2019, 'Top Tracks' on 2020, and since named their popular playlist 'Spotify Wrapped' as of 2021. \n"
   ]
  },
  {
   "cell_type": "markdown",
   "metadata": {},
   "source": [
    "# analysis"
   ]
  },
  {
   "cell_type": "markdown",
   "metadata": {},
   "source": [
    "we will read from an outer csv file that contains the most streamed tracks in YouTube Music from 2010. "
   ]
  },
  {
   "cell_type": "markdown",
   "metadata": {},
   "source": [
    "> I attempted to draw from an outer website that had organized most streamed videos by years. However, the parsing of the artist and track name was difficult as the html table drew from youtube video titles, which did not have a fixed format. Also, I realized that the user base of Youtube Music was not what I expected to be. Therefore, I will attempt to utilized the Spotify API and their 'Spotify Wrapped' as a marker to popular music."
   ]
  },
  {
   "cell_type": "code",
   "execution_count": 439,
   "metadata": {},
   "outputs": [],
   "source": [
    "#youtube_music = {}\n",
    "\n",
    "#for top_mv_by_yr in range(2010, 2024):\n",
    "    #year = top_mv_by_yr\n",
    "    #url = f'https://kworb.net/youtube/topvideos{year}.html'\n",
    "    #youtube_music[top_mv_by_yr] = req.get(url)"
   ]
  },
  {
   "cell_type": "code",
   "execution_count": 440,
   "metadata": {},
   "outputs": [],
   "source": [
    "##soup = bs(youtube_music[2023].text)\n",
    "# extract views in str(\\d\\d\\d,\\d\\d\\d,\\d\\d\\d) format and converted to int\n",
    "##views = list(map(lambda x : x.text.replace(',', ''), soup.find_all('td')[ 1 : : 2 ]))\n",
    "\n",
    "# extract titles and artist\n",
    "##title_artist = list(map(lambda x : x.find('a').text, soup.find_all('td')[0 : : 2]))\n",
    "\n",
    "# obtained url for another page in the website with an embedded link for the youtube file\n",
    "##url = []\n",
    "#for raw_url in soup.find_all('td')[0 : : 2]:\n",
    "#    inhouse = raw_url.find('a')['href']\n",
    "#    #print(f'worked for {listed}')\n",
    "#    inhouse_url = bs(req.get(f'https://kworb.net/youtube/{inhouse}').text).find_all('iframe')[0]['src']\n",
    "#    youtube_id = re.search(r'[^/]\\w+[?$]', inhouse_url)[0][0 : -1]\n",
    "#    youtube_url = f'https://www.youtube.com/watch?v={youtube_id}'\n",
    "#    url.append(youtube_url)\n",
    "#\n",
    "#print(title_artist[0], views[0])\n",
    "#\n",
    "#df = pd.DataFrame([title_artist, views, url]).T\n",
    "#df.columns = ['title_artist', 'views', 'url']\n",
    "#df.index.name = '2023'\n",
    "#df\n",
    "\n",
    "# I attempted to draw from an outer website that had organized most streamed videos by years.\n",
    "# However, the parsing of the artist and track name was difficult \n",
    "# as the html table drew from youtube video titles, which did not have a fixed format. \n",
    "# Also, I realized that the user base of Youtube Music was not what I expected to be. \n",
    "# Therefore, I will attempt to utilized the Spotify API \n",
    "# and their 'Spotify Wrapped' as a marker to popular music."
   ]
  },
  {
   "cell_type": "markdown",
   "metadata": {},
   "source": [
    "we will now get a function to search the song on spotify, and forward them to a pandas dataframe. "
   ]
  },
  {
   "cell_type": "code",
   "execution_count": 441,
   "metadata": {},
   "outputs": [],
   "source": [
    "spotifyplaylists = {\n",
    "'hits2008' : 'https://open.spotify.com/playlist/37i9dQZF1DWYuGZUE4XQXm',\n",
    "'hits2009' : 'https://open.spotify.com/playlist/37i9dQZF1DX4UkKv8ED8jp',\n",
    "'hits2010' : 'https://open.spotify.com/playlist/37i9dQZF1DXc6IFF23C9jj',\n",
    "'hits2011' : 'https://open.spotify.com/playlist/37i9dQZF1DXcagnSNtrGuJ',\n",
    "'hits2012' : 'https://open.spotify.com/playlist/37i9dQZF1DX0yEZaMOXna3',\n",
    "'hits2013' : 'https://open.spotify.com/playlist/37i9dQZF1DX3Sp0P28SIer',\n",
    "'hits2014' : 'https://open.spotify.com/playlist/37i9dQZF1DX0h0QnLkMBl4',\n",
    "'hits2015' : 'https://open.spotify.com/playlist/37i9dQZF1DX9ukdrXQLJGZ',\n",
    "'hits2016' : 'https://open.spotify.com/playlist/37i9dQZF1DX8XZ6AUo9R4R',\n",
    "'hits2017' : 'https://open.spotify.com/playlist/37i9dQZF1DWTE7dVUebpUW',\n",
    "'hits2018' : 'https://open.spotify.com/playlist/37i9dQZF1DXe2bobNYDtW8',\n",
    "'hits2019' : 'https://open.spotify.com/playlist/37i9dQZF1DWVRSukIED0e9',\n",
    "'hits2020' : 'https://open.spotify.com/playlist/37i9dQZF1DX7Jl5KP2eZaS',\n",
    "'hits2022' : 'https://open.spotify.com/playlist/37i9dQZF1DX18jTM2l2fJY'\n",
    "}"
   ]
  },
  {
   "cell_type": "code",
   "execution_count": 442,
   "metadata": {},
   "outputs": [
    {
     "name": "stdout",
     "output_type": "stream",
     "text": [
      "37i9dQZF1DWYuGZUE4XQXm\n",
      "37i9dQZF1DX4UkKv8ED8jp\n",
      "37i9dQZF1DXc6IFF23C9jj\n",
      "37i9dQZF1DXcagnSNtrGuJ\n",
      "37i9dQZF1DX0yEZaMOXna3\n",
      "37i9dQZF1DX3Sp0P28SIer\n",
      "37i9dQZF1DX0h0QnLkMBl4\n",
      "37i9dQZF1DX9ukdrXQLJGZ\n",
      "37i9dQZF1DX8XZ6AUo9R4R\n",
      "37i9dQZF1DWTE7dVUebpUW\n",
      "37i9dQZF1DXe2bobNYDtW8\n",
      "37i9dQZF1DWVRSukIED0e9\n",
      "37i9dQZF1DX7Jl5KP2eZaS\n",
      "37i9dQZF1DX18jTM2l2fJY\n"
     ]
    }
   ],
   "source": [
    "get_playlist_id = lambda x : re.search(r'[^/]\\d\\w+[\\w$]', x).group(0)\n",
    "\n",
    "for key, val in spotifyplaylists.items():\n",
    "    print(get_playlist_id(val))\n"
   ]
  },
  {
   "cell_type": "code",
   "execution_count": 443,
   "metadata": {},
   "outputs": [],
   "source": [
    "def get_playlist_info(token : str, playlist_id : str) -> dict:\n",
    "\t'''\n",
    "\tThis function takes the ID of a Spotify playlist and returns attributes associated with it\n",
    "\n",
    "\t@param token : The Spotify API Token provided by function get_token()\n",
    "\t@param playlist_id : The playlist ID associated with the playlist to analyze\n",
    "\n",
    "\t@return : returns the attributes of the Spotify playlist\n",
    "\n",
    "\t'''\n",
    "\turl = f'https://api.spotify.com/v1/playlists/{playlist_id}/tracks'\n",
    "\n",
    "\theaders = get_auth_header(token)\n",
    "\tresult = req.get(url, headers = headers)\n",
    "\tjson_result = json.loads(result.content)\n",
    "\treturn json_result\n",
    "\n",
    "def get_playlist_tracks(playlist_json : dict) -> dict:\n",
    "\t'''\n",
    "\tThis function takes the return value of function 'get_playlist_info' and returns track ids of the tracks in the playlist\n",
    "\n",
    "\t@param playlist_json : attributes of a Spotify playlist\n",
    "\n",
    "\t@return : returns a dict of keys= name of track, and vals= IDs of the tracks in the playlist\n",
    "\n",
    "\t'''\n",
    "\tplaylist_tracks = {}\n",
    "\tfor tracks in playlist_json['items']:\n",
    "\t\tplaylist_tracks[tracks['track']['name']] = tracks['track']['id']\n",
    "\treturn playlist_tracks\n",
    "\n",
    "def get_track_info(token : str, track_id : str) -> pd.Series:\n",
    "\t'''\n",
    "\tThis function takes the the ID of a Spotify track and returns attributes associated with it\n",
    "\n",
    "\t@param token : The Spotify API Token provided by function get_token()\n",
    "\t@param track_id : The track ID associated with the track to analyze\n",
    "\n",
    "\t@return : returns a pandas Series with variables: artists, duration, name, popularity.\n",
    "\n",
    "\t'''\n",
    "\turl = f'https://api.spotify.com/v1/tracks/{track_id}'\n",
    "    \n",
    "\theaders = get_auth_header(token)\n",
    "\tresult = req.get(url, headers = headers)\n",
    "\tjson_result = json.loads(result.content)\n",
    "    \n",
    "\tartists = json_result['artists'][0]['name']\n",
    "\tduration_ms = json_result['duration_ms'] \n",
    "\n",
    "\tmin = int(duration_ms / 60000)\n",
    "\tsec = str(((duration_ms / 60000) - min) * 0.6)[2:4]\n",
    "\tduration = str(min) + ':' + sec\n",
    "\ttrack_name = json_result['name']\n",
    "\trelease_year = int(re.search(r'\\d\\d\\d\\d', json_result['album']['release_date']).group(0))\n",
    "\tpopularity = json_result['popularity']\n",
    "\t\n",
    "\n",
    "\treturn pd.Series([track_name, artists, duration, duration_ms, release_year, popularity])\n"
   ]
  },
  {
   "cell_type": "code",
   "execution_count": 444,
   "metadata": {},
   "outputs": [],
   "source": [
    "def streamline(token : str, playlist_id : str) -> pd.DataFrame:\n",
    "    '''\n",
    "    This function streamlines the process of creating a dataframe from the playlist ID, combining 3 functions: get_playlist_info, \n",
    "    get_playlist_tracks, get_track_info.\n",
    "    It also breaks when n exceeds 50 for consistency on playlists\n",
    "    '''\n",
    "    playlist_json = get_playlist_info(token, playlist_id)\n",
    "    playlist_tracks = get_playlist_tracks(playlist_json)\n",
    "\n",
    "    df = pd.DataFrame()\n",
    "    for track_id in playlist_tracks.values():\n",
    "        new_row = pd.DataFrame(get_track_info(token, track_id)).T\n",
    "        df = pd.concat([df, new_row])\n",
    "        if (df.shape[0] >= 50):\n",
    "            break;\n",
    "\n",
    "    df.columns = ['track_name', 'artist', 'duration', 'duration_ms', 'release_year', 'popularity']\n",
    "    df.index.name = df.release_year.mode()[0]\n",
    "    df.index = range(df.shape[0])\n",
    "    return df"
   ]
  },
  {
   "cell_type": "code",
   "execution_count": 445,
   "metadata": {},
   "outputs": [],
   "source": [
    "hits2020df = streamline(token,'37i9dQZF1DX7Jl5KP2eZaS')"
   ]
  },
  {
   "cell_type": "code",
   "execution_count": 446,
   "metadata": {},
   "outputs": [
    {
     "data": {
      "text/html": [
       "<div>\n",
       "<style scoped>\n",
       "    .dataframe tbody tr th:only-of-type {\n",
       "        vertical-align: middle;\n",
       "    }\n",
       "\n",
       "    .dataframe tbody tr th {\n",
       "        vertical-align: top;\n",
       "    }\n",
       "\n",
       "    .dataframe thead th {\n",
       "        text-align: right;\n",
       "    }\n",
       "</style>\n",
       "<table border=\"1\" class=\"dataframe\">\n",
       "  <thead>\n",
       "    <tr style=\"text-align: right;\">\n",
       "      <th></th>\n",
       "      <th>popularity</th>\n",
       "    </tr>\n",
       "    <tr>\n",
       "      <th>release_year</th>\n",
       "      <th></th>\n",
       "    </tr>\n",
       "  </thead>\n",
       "  <tbody>\n",
       "    <tr>\n",
       "      <th>2016</th>\n",
       "      <td>1</td>\n",
       "    </tr>\n",
       "    <tr>\n",
       "      <th>2018</th>\n",
       "      <td>3</td>\n",
       "    </tr>\n",
       "    <tr>\n",
       "      <th>2019</th>\n",
       "      <td>20</td>\n",
       "    </tr>\n",
       "    <tr>\n",
       "      <th>2020</th>\n",
       "      <td>23</td>\n",
       "    </tr>\n",
       "    <tr>\n",
       "      <th>2021</th>\n",
       "      <td>3</td>\n",
       "    </tr>\n",
       "  </tbody>\n",
       "</table>\n",
       "</div>"
      ],
      "text/plain": [
       "              popularity\n",
       "release_year            \n",
       "2016                   1\n",
       "2018                   3\n",
       "2019                  20\n",
       "2020                  23\n",
       "2021                   3"
      ]
     },
     "execution_count": 446,
     "metadata": {},
     "output_type": "execute_result"
    }
   ],
   "source": [
    "hits2020df[['release_year', 'popularity']].groupby('release_year').agg('count')"
   ]
  },
  {
   "cell_type": "code",
   "execution_count": 447,
   "metadata": {},
   "outputs": [
    {
     "data": {
      "text/plain": [
       "0    Seven (feat. Latto) (Explicit Ver.)\n",
       "1                              Jung Kook\n",
       "2                                   3:04\n",
       "3                                 184400\n",
       "4                                   2023\n",
       "5                                     93\n",
       "dtype: object"
      ]
     },
     "execution_count": 447,
     "metadata": {},
     "output_type": "execute_result"
    }
   ],
   "source": [
    "get_track_info(token, '7x9aauaA9cu6tyfpHnqDLo')"
   ]
  },
  {
   "cell_type": "code",
   "execution_count": 448,
   "metadata": {},
   "outputs": [],
   "source": [
    "hitsdf = {}\n",
    "\n",
    "for key, val in spotifyplaylists.items():\n",
    "    dfname = str(key) + 'df'\n",
    "    playlist_id = get_playlist_id(val)\n",
    "    hitsdf[dfname] = streamline(token, playlist_id)"
   ]
  },
  {
   "cell_type": "code",
   "execution_count": 449,
   "metadata": {},
   "outputs": [],
   "source": [
    "# I have the data for 2021 in a .csv format, from a Kaggle dataset (https://www.kaggle.com/datasets/equinxx/spotify-top-50-songs-in-2021),\n",
    "# so I will extract the track IDs from the .csv file and forward it to the get_track_info() function, and then add it to the hitsdf dictionary.\n",
    "\n",
    "hits2021 = pd.read_csv('./hits2021.csv')\n",
    "\n",
    "\n",
    "df21 = pd.DataFrame()\n",
    "for track_id in hits2021.id:\n",
    "    new_row = pd.DataFrame(get_track_info(token, track_id)).T\n",
    "    df21 = pd.concat([df21, new_row])\n",
    "    if (df21.shape[0] >= 50):\n",
    "        break\n",
    "\n",
    "df21.columns = ['track_name', 'artist', 'duration', 'duration_ms', 'release_year', 'popularity']\n",
    "df21.index.name = 2021\n",
    "df21.index = range(df21.shape[0])\n",
    "\n",
    "hitsdf['hits2021df'] = df21\n",
    "\n",
    "# I have the data for 2023 in a .csv format as well, \n",
    "# unfortunately, the 2023 dataset from kaggle (https://www.kaggle.com/datasets/nelgiriyewithana/top-spotify-songs-2023)\n",
    "# does not include track IDs, so I will search them using the search_for_track() function.\n",
    "# to be sure I will compare the danceability score (provided by Spotify API and the 18th column in hits2023.csv) and add only if they match\n",
    "\n",
    "\n",
    "def search_for_track(token : str, track_name : str, danceability_score : int) -> str:\n",
    "\t'''\n",
    "\tfunction takes track_name and returns the Spotify track ID. \n",
    "\tbuilt specifically for the hits2023.csv file\n",
    "\n",
    "\t@ param track_name : name of the track\n",
    "\t@ param danceability_score : extracted from column 18 of hits2023.csv\n",
    "\n",
    "\t@ return : Spotify track ID\n",
    "\t'''\n",
    "\t\n",
    "\turl = 'https://api.spotify.com/v1/search'\n",
    "\theaders = get_auth_header(token)\n",
    "\n",
    "\t#limit=1 limits to one track in search\n",
    "\tquery = f'?q={track_name}&type=track&limit=1'\n",
    "\t\n",
    "\tquery_url = url + query\n",
    "\tresult = req.get(query_url, headers=headers)\n",
    "\tjson_result = json.loads(result.content)['tracks']['items']\n",
    "\tif len(json_result) == 0:\n",
    "\t\treturn None\n",
    "\n",
    "\ttrack_id = json_result[0]['id']\n",
    "\taudio_features = req.get(f'https://api.spotify.com/v1/audio-features/{track_id}', headers=headers)\n",
    "\tdanceability = int(json.loads(audio_features.content)['danceability'] * 100)\n",
    "\tif danceability != danceability_score:\n",
    "\t\treturn None\n",
    "\t\n",
    "\treturn track_id\n",
    "\n",
    "hits2023 = pd.read_csv('./hits2023.csv')\n",
    "hits2023\n",
    "trackname = hits2023['track_name']\n",
    "danceability = hits2023['danceability_%']\n",
    "\n",
    "zipped = list(zip(trackname, danceability))\n",
    "\n",
    "\n",
    "track_ids_2023 = []\n",
    "for trackname, danceability in zipped:\n",
    "    track_id = search_for_track(token, trackname, danceability)\n",
    "    if (track_id == None):\n",
    "        continue\n",
    "    else:\n",
    "        track_ids_2023.append(track_id)\n",
    "    \n",
    "    if (len(track_ids_2023) >= 50):\n",
    "        break\n",
    "\n",
    "\n",
    "df23 = pd.DataFrame()\n",
    "for track_id in track_ids_2023:\n",
    "    new_row = pd.DataFrame(get_track_info(token, track_id)).T\n",
    "    df23 = pd.concat([df23, new_row])\n",
    "df23.columns = ['track_name', 'artist', 'duration', 'duration_ms', 'release_year', 'popularity']\n",
    "df23.index.name = 2023\n",
    "df23.index = range(df23.shape[0])\n",
    "\n",
    "hitsdf['hits2023df'] = df23\n",
    "\n"
   ]
  },
  {
   "cell_type": "code",
   "execution_count": 450,
   "metadata": {},
   "outputs": [
    {
     "data": {
      "text/plain": [
       "dict_keys(['hits2008df', 'hits2009df', 'hits2010df', 'hits2011df', 'hits2012df', 'hits2013df', 'hits2014df', 'hits2015df', 'hits2016df', 'hits2017df', 'hits2018df', 'hits2019df', 'hits2020df', 'hits2022df', 'hits2021df', 'hits2023df'])"
      ]
     },
     "execution_count": 450,
     "metadata": {},
     "output_type": "execute_result"
    }
   ],
   "source": [
    "# scaffoldings\n",
    "\n",
    "#get_track_info(token, '7x9aauaA9cu6tyfpHnqDLo')\n",
    "track_ids_2023\n",
    "hitsdf.keys()"
   ]
  },
  {
   "cell_type": "code",
   "execution_count": 451,
   "metadata": {},
   "outputs": [
    {
     "data": {
      "image/png": "[encoded data removed]",
      "text/plain": [
       "<Figure size 1000x600 with 1 Axes>"
      ]
     },
     "metadata": {},
     "output_type": "display_data"
    }
   ],
   "source": [
    "plt.figure(figsize=(10, 6))\n",
    "sns.set_theme()\n",
    "jbmono = {'fontname' : 'Jetbrains Mono NL'}\n",
    "avenir = {'fontname' : 'Avenir Next'}\n",
    "\n",
    "\n",
    "\n",
    "#fig, (ax_top, ax_bottom) = plt.subplots(2, 1, sharex=True)  # draws 2 figures in one plot\n",
    "#ax_bottom.set_position([0, 0, 10, 2])  # [left, bottom, width, height]\n",
    "#fig.subplots_adjust(hspace = 0.05) # vertical distance between 2 figures\n",
    "\n",
    "\n",
    "sized_scatterplot = {}\n",
    "for key, val in hitsdf.items():\n",
    "    temp = val[['release_year', 'popularity']].groupby('release_year').agg('count')\n",
    "\n",
    "    # gets year of analysis from the key\n",
    "    year_of_analysis = re.search(r'\\d\\d\\d\\d', key).group(0)\n",
    "    yoa_int = int(year_of_analysis) # saves year_of_analysis in int form, to ignore tracks added to Spotify after year of analysis \n",
    "                                    # this could be due to multiple reasons, but I chose to simply drop these values\n",
    "\n",
    "    # redefine temp to drop tracks which were added after the year of analysis\n",
    "    temp = temp.loc[temp.index <= yoa_int]\n",
    "\n",
    "    # gets the counts of tracks released in a certain year\n",
    "    counts = list(temp.values.T[0])\n",
    "    # gets the years tracks were released in\n",
    "    year_released = list(temp.index)\n",
    "\n",
    "\n",
    "    # priming a dictionary to use for the scatterplot (x-axis: year of analysis, y-axis: tracks' year of release)\n",
    "    sized_scatterplot[year_of_analysis] = pd.DataFrame({'counts' : counts, 'year_released' : year_released})\n",
    "\n",
    "    sns.scatterplot(data=sized_scatterplot[year_of_analysis], x=int(year_of_analysis), y='year_released', size='counts', sizes=(40, 200), legend=False)\n",
    "    #sns.scatterplot(data=sized_scatterplot[year_of_analysis], x=int(year_of_analysis), y='year_released', size='counts', sizes=(40, 200), legend=False, ax=ax_bottom)\n",
    "   \n",
    "    # text) the count of songs released in the given year\n",
    "    for line in range(0, sized_scatterplot[year_of_analysis].shape[0]):\n",
    "        plt.text(int(year_of_analysis) + 0.2, \n",
    "                 sized_scatterplot[year_of_analysis]['year_released'][line], \n",
    "                 sized_scatterplot[year_of_analysis]['counts'][line], \n",
    "                 horizontalalignment='left', size='x-small', color='black', weight='normal', **jbmono)\n",
    "    plt.hlines(int(year_of_analysis) + 0.5, int(year_of_analysis) - 0.5, int(year_of_analysis) + 0.5, color='r', linestyles='dotted')\n",
    "\n",
    "\n",
    "# because we have an outlier (1975), we will divide the plots into subplots as a broken y-axis \n",
    "# note) the outlier is 'Bohemian Rapsody' by Queen, appearing on 2019's statistics, which is the year movie 'Bohemian Rapsody' was released\n",
    "\n",
    "\n",
    "\n",
    "\n",
    "\n",
    "#ax_top.set_ylim(2000, 2025) # 윗 부분 y축 범위 설정\n",
    "#ax_bottom.set_ylim(1973, 1980) # 아랫 부분 y축 범위 설정\n",
    "\n",
    "\n",
    "\n",
    "plt.title('Release Year of Tracks in \"Top Hits\"', **avenir)\n",
    "plt.xlabel('Year of Analysis', fontsize=13, **avenir)\n",
    "plt.ylabel('Year Released', fontsize=13, **avenir)\n",
    "plt.xticks(range(2008, 2024, 1), fontsize=10, **jbmono)\n",
    "\n",
    "plt.yticks(range(2000, 2024, 1), fontsize=10, **jbmono)\n",
    "#ax_bottom.yticks(range(1960, 1980, 1), fontsize=10, **jbmono)\n",
    "plt.ylim(2001, 2024)\n",
    "\n",
    "\n",
    "# visual\n",
    "plt.hlines(2005, 2023.5, 2020, color='black')\n",
    "plt.vlines(2020, 2004.5, 2005.5, color='black')\n",
    "plt.vlines(2023.5, 2004.5, 2005.5, color='black')\n",
    "plt.text(2020.15, 2006, 'covid pandemic', **jbmono)\n",
    "\n",
    "\n",
    "plt.show()"
   ]
  },
  {
   "cell_type": "code",
   "execution_count": 452,
   "metadata": {},
   "outputs": [
    {
     "data": {
      "text/html": [
       "<div>\n",
       "<style scoped>\n",
       "    .dataframe tbody tr th:only-of-type {\n",
       "        vertical-align: middle;\n",
       "    }\n",
       "\n",
       "    .dataframe tbody tr th {\n",
       "        vertical-align: top;\n",
       "    }\n",
       "\n",
       "    .dataframe thead th {\n",
       "        text-align: right;\n",
       "    }\n",
       "</style>\n",
       "<table border=\"1\" class=\"dataframe\">\n",
       "  <thead>\n",
       "    <tr style=\"text-align: right;\">\n",
       "      <th></th>\n",
       "      <th>track_name</th>\n",
       "      <th>artist</th>\n",
       "      <th>duration</th>\n",
       "      <th>duration_ms</th>\n",
       "      <th>release_year</th>\n",
       "      <th>popularity</th>\n",
       "    </tr>\n",
       "  </thead>\n",
       "  <tbody>\n",
       "    <tr>\n",
       "      <th>10</th>\n",
       "      <td>I Wanna Be Yours</td>\n",
       "      <td>Arctic Monkeys</td>\n",
       "      <td>3:03</td>\n",
       "      <td>183956</td>\n",
       "      <td>2013</td>\n",
       "      <td>95</td>\n",
       "    </tr>\n",
       "    <tr>\n",
       "      <th>20</th>\n",
       "      <td>Another Love</td>\n",
       "      <td>Tom Odell</td>\n",
       "      <td>4:04</td>\n",
       "      <td>244360</td>\n",
       "      <td>2013</td>\n",
       "      <td>92</td>\n",
       "    </tr>\n",
       "    <tr>\n",
       "      <th>35</th>\n",
       "      <td>Sweater Weather</td>\n",
       "      <td>The Neighbourhood</td>\n",
       "      <td>4:00</td>\n",
       "      <td>240400</td>\n",
       "      <td>2013</td>\n",
       "      <td>92</td>\n",
       "    </tr>\n",
       "  </tbody>\n",
       "</table>\n",
       "</div>"
      ],
      "text/plain": [
       "          track_name             artist duration duration_ms release_year  \\\n",
       "10  I Wanna Be Yours     Arctic Monkeys     3:03      183956         2013   \n",
       "20      Another Love          Tom Odell     4:04      244360         2013   \n",
       "35   Sweater Weather  The Neighbourhood     4:00      240400         2013   \n",
       "\n",
       "   popularity  \n",
       "10         95  \n",
       "20         92  \n",
       "35         92  "
      ]
     },
     "execution_count": 452,
     "metadata": {},
     "output_type": "execute_result"
    }
   ],
   "source": [
    "hitsdf['hits2022df'][['popularity', 'release_year']].groupby('release_year').agg('count')\n",
    "hitsdf['hits2022df'].loc[hitsdf['hits2022df']['release_year'] == 2013]"
   ]
  },
  {
   "cell_type": "markdown",
   "metadata": {},
   "source": [
    "### note on outliers\n",
    "\n",
    "year of analysis:\n",
    "    2019: Bohemian Rapsody (Queen) -> release of movie 'Bohemian Rapsody'\n",
    "    2022: Running Up That Hill (Kate Bush) -> OST for stranger things"
   ]
  },
  {
   "cell_type": "markdown",
   "metadata": {},
   "source": [
    "# Analysis on Lyrics"
   ]
  },
  {
   "cell_type": "markdown",
   "metadata": {},
   "source": [
    "because the vanilla attributes offered by Spotify API rather lacks detailed information I would like for my analysis such as genre and country of release, I will get help from an outer database, Genius.com. \n",
    "\n",
    "I will authenticate with the Genius API to get 2 new columns: 'lyrics' and 'language'\n",
    "\n",
    "Unfortunately, Genius Music API requires actual browser interaction to get access to the token, and therefore it is impossible to implement a code to automate the process."
   ]
  },
  {
   "cell_type": "code",
   "execution_count": 453,
   "metadata": {},
   "outputs": [],
   "source": [
    "# update manually\n",
    "token_Genius = 'Yxa-e7shKcb5ilSoSgKPSh9TuxkqBV9STR3hKyvuWtil3UaN56qEfZ2myslMKIqk'"
   ]
  },
  {
   "cell_type": "code",
   "execution_count": 454,
   "metadata": {},
   "outputs": [],
   "source": [
    "def Genius_lyrics_search(token_Genius : str, track_title : str, artist_name : str) -> str:\n",
    "\n",
    "    # for some reason, Genius API does not return a valid search result if there is a colon behind the track title \n",
    "            # pattern = r'[a-zA-Z\\d\\s]+[$\\W]'\n",
    "            # if (len(re.findall(pattern, track_title)) > 0):\n",
    "            #     track_title = re.search(pattern, track_title)[0][:-1]\n",
    "            # else:\n",
    "            #     pass\n",
    "        \n",
    "    # rather than using the re package, this keeps it simpler and works better\n",
    "    if '(' in track_title:\n",
    "        track_title = track_title.split('(')[0]\n",
    "    if '-' in track_title:\n",
    "        track_title = track_title.split('-')[0]\n",
    "\n",
    "\n",
    "    url = f'https://api.genius.com/search?q={track_title}%2C%20{artist_name}'\n",
    "    headers = {\n",
    "        'Authorization' : 'Bearer ' + token_Genius\n",
    "    }\n",
    "    api_link = req.get(url, headers = headers)\n",
    "    json_result = json.loads(api_link.content)\n",
    "    try:\n",
    "        song_api_path = json_result['response']['hits'][0]['result']['api_path']\n",
    "    except:\n",
    "        return 'not found'\n",
    "\n",
    "    return song_api_path\n",
    "\n",
    "\n",
    "def get_Genius_lyrics(api_path : str) -> str:\n",
    "    '''\n",
    "    passes on api_path from Genius_lyrics_search() and returns string value of lyrics\n",
    "    '''\n",
    "    if (api_path == 'not found'):\n",
    "        return 'not found'\n",
    "    \n",
    "    soup = bs(req.get(f'https://genius.com{api_path}').text)\n",
    "    lyrics = ''\n",
    "    for parts in soup.find_all('div', {'class' : 'Lyrics__Container-sc-1ynbvzw-1 kUgSbL'}):\n",
    "        lyrics += parts.get_text(separator=' ')\n",
    "\n",
    "    lyrics = re.sub(r'\\[.*?\\]', '\\n', lyrics)\n",
    "\n",
    "    return lyrics\n",
    "\n",
    "def Streamline_Genius(token_Genius : str, song_title : str, artist_name : str) -> str:\n",
    "    api_path = Genius_lyrics_search(token_Genius, song_title, artist_name)\n",
    "    #print(api_path)\n",
    "    return get_Genius_lyrics(api_path)\n",
    "\n"
   ]
  },
  {
   "cell_type": "code",
   "execution_count": 455,
   "metadata": {},
   "outputs": [],
   "source": [
    "# for track, artist in hitsdf['hits2022df'][['track_name', 'artist']].values:\n",
    "#     f = open(f'./testing/{track}.txt', 'w')\n",
    "#     f.write(Streamline_Genius(token_Genius, track, artist))\n",
    "#     f.close()"
   ]
  },
  {
   "cell_type": "code",
   "execution_count": 456,
   "metadata": {},
   "outputs": [
    {
     "ename": "IndentationError",
     "evalue": "unexpected indent (3262968580.py, line 4)",
     "output_type": "error",
     "traceback": [
      "\u001b[0;36m  Cell \u001b[0;32mIn[456], line 4\u001b[0;36m\u001b[0m\n\u001b[0;31m    dir_name = re.search('\\d\\d\\d\\d', years)[0] + '_lyrics'\u001b[0m\n\u001b[0m    ^\u001b[0m\n\u001b[0;31mIndentationError\u001b[0m\u001b[0;31m:\u001b[0m unexpected indent\n"
     ]
    }
   ],
   "source": [
    "error_list = []\n",
    "\n",
    "for years in hitsdf.keys():\n",
    "    dir_name = re.search('\\d\\d\\d\\d', years)[0] + '_lyrics'\n",
    "    os.mkdir(f'./{dir_name}')\n",
    "    for track, artist in hitsdf[f'{years}'][['track_name', 'artist']].values:\n",
    "        # 파일경로에 쓰는 특수기호들 정리해서 리플레이스\n",
    "        try:\n",
    "            f = open(f'./{dir_name}/{track}_{artist}.txt', 'w')\n",
    "            f.write(Streamline_Genius(token_Genius, track, artist))\n",
    "            f.close()\n",
    "        except:\n",
    "            print('error in ' + track + ' ' + artist + ' ' + years)\n",
    "            error_list.append((years, track, artist))"
   ]
  },
  {
   "cell_type": "code",
   "execution_count": null,
   "metadata": {},
   "outputs": [
    {
     "data": {
      "text/plain": [
       "[('hits2008df', 'I Kissed A Girl', 'Katy Perry'),\n",
       " ('hits2014df',\n",
       "  'Let It Go - From \"Frozen\"/Soundtrack Version',\n",
       "  'Idina Menzel'),\n",
       " ('hits2017df', 'More Than You Know', 'Axwell /\\\\ Ingrosso'),\n",
       " ('hits2022df', 'Lo Siento BB:/ (with Bad Bunny & Julieta Venegas)', 'Tainy')]"
      ]
     },
     "execution_count": 126,
     "metadata": {},
     "output_type": "execute_result"
    }
   ],
   "source": [
    "error_list"
   ]
  },
  {
   "cell_type": "code",
   "execution_count": 457,
   "metadata": {},
   "outputs": [],
   "source": [
    "track = 'I Kissed A Girl'\n",
    "artist = 'Katy Perry'\n",
    "\n",
    "f = open(f'./2008_lyrics/{track}_{artist}.txt', 'w')\n",
    "f.write(get_Genius_lyrics('/songs/130024'))\n",
    "f.close()"
   ]
  },
  {
   "cell_type": "markdown",
   "metadata": {},
   "source": [
    "Now we will attempt to analyze the frequency and such of the given lyrics.\n",
    "\n",
    "Before we do so, there are some preliminary steps of stemming and lemmatization. For this, we will simply draw from the textblob package. \n",
    "\n",
    "Also, we will put to use the Bag of Word assumption, in that we need not know the sequence of words in order to understand the underlying trend of the corpus. \n",
    "\n",
    "After forming a Document-Term Matrix (DTM), We will conduct the following:\n",
    "    (a) Cosine Similarity Between the corpora (in this case, the lyrics folders for each year)\n",
    "    (b) Frequency Analysis\n",
    "    \n",
    "\n",
    "note)\n",
    "    Cold Heart - Elton John - edit\n",
    "    I Can See You - 2023 - taylor swift - edit\n",
    "    Seven - 2023 - edit\n",
    "    What was i made for - 2023 - edit\n"
   ]
  },
  {
   "cell_type": "code",
   "execution_count": null,
   "metadata": {},
   "outputs": [],
   "source": [
    "!python -m textblob.download_corpora"
   ]
  },
  {
   "cell_type": "code",
   "execution_count": 459,
   "metadata": {},
   "outputs": [
    {
     "name": "stderr",
     "output_type": "stream",
     "text": [
      "[nltk_data] Downloading package stopwords to\n",
      "[nltk_data]     /Users/samuellee/nltk_data...\n",
      "[nltk_data]   Package stopwords is already up-to-date!\n"
     ]
    }
   ],
   "source": [
    "from textblob import TextBlob\n",
    "\n",
    "def pos_tagger(sentence):\n",
    "    sent = TextBlob(sentence)\n",
    "    tag_dict = {\"J\": 'a', \"N\": 'n', \"V\": 'v', \"R\": 'r'}\n",
    "    words_tags = [(w, tag_dict.get(pos[0], 'n')) for w, pos in sent.tags]    \n",
    "    lemma_list = [wd.lemmatize(tag) for wd, tag in words_tags]\n",
    "    return lemma_list\n",
    "\n",
    "import nltk\n",
    "from nltk.corpus import stopwords\n",
    " \n",
    "# because the normal stopwords database contains words (such as, but not limited to: she, him, i, you) \n",
    "# that are crucial in song lyrics,\n",
    "# I took the time to remove some pronouns from the stop words database \n",
    "# database from: https://github.com/igorbrigadir/stopwords/blob/master/en/terrier.txt\n",
    "\n",
    "stopwords_en = open('./stopwords_en.txt').read()\n",
    "stopwords_en = stopwords_en.split('\\n')\n",
    "\n",
    "nltk.download('stopwords')\n",
    "stopwords_esp = stopwords.words('spanish')"
   ]
  },
  {
   "cell_type": "code",
   "execution_count": 460,
   "metadata": {},
   "outputs": [],
   "source": [
    "def lyrics_to_df(filepath : str) -> pd.DataFrame:\n",
    "    f = open(filepath, 'r')\n",
    "\n",
    "    # cleaning lyrics\n",
    "    clean_lyrics = f.read().strip().replace('\\n', ' ').lower()\n",
    "    clean_lyrics = re.sub(\"[(]|[)]|[']|[\\\"]\", ' ', clean_lyrics)\n",
    "\n",
    "    # lemmatization\n",
    "    lyrics_lemmatized_raw = pos_tagger(clean_lyrics)\n",
    "\n",
    "    # removing stop words\n",
    "    lyrics_lemmatized = []\n",
    "    for w in lyrics_lemmatized_raw:\n",
    "        if w in stopwords_en:\n",
    "            w = ''\n",
    "        if w in stopwords_esp:\n",
    "            w = ''\n",
    "        if len(w) < 3 and w!='i':\n",
    "            w = ''\n",
    "        lyrics_lemmatized.append(w)\n",
    "\n",
    "    words_counts = np.unique(lyrics_lemmatized, return_counts=True)\n",
    "    df = pd.DataFrame({'words' : words_counts[0], 'counts' : words_counts[1]})\n",
    "    df = df.drop(index=df.loc[df.words == ''].index)\n",
    "\n",
    "    return df\n",
    "\n",
    "\n",
    "df_base = pd.DataFrame({'words' : [], 'counts' : []})\n",
    "\n",
    "def count_occurances(df : pd.DataFrame, df_base : pd.DataFrame = df_base) -> pd.DataFrame:\n",
    "    ''' \n",
    "    @param df : a dataframe created by lyrics_to_df()\n",
    "    @pram df_base : df to be merged with existing dataframe. used for initialization\n",
    "    '''\n",
    "    df_merged = pd.merge(df, df_base, on='words', how='outer').replace(np.NaN, 0)\n",
    "    df_merged['counts_x'] += df_merged.counts_y\n",
    "    df_merged = df_merged.drop(columns = 'counts_y')\n",
    "    df_merged.columns=['words', 'counts']\n",
    "    df_merged = df_merged.sort_values(by = 'counts', ascending=False)\n",
    "    df_merged.index = range(df_merged.shape[0])\n",
    "\n",
    "    return df_merged"
   ]
  },
  {
   "cell_type": "markdown",
   "metadata": {},
   "source": [
    "let us use some lyrics data from the year 2023 as a statistic"
   ]
  },
  {
   "cell_type": "code",
   "execution_count": 461,
   "metadata": {},
   "outputs": [],
   "source": [
    "os.chdir('/Users/samuellee/_codes/dspj_musicsoci/spotify/')"
   ]
  },
  {
   "cell_type": "code",
   "execution_count": 462,
   "metadata": {},
   "outputs": [
    {
     "data": {
      "text/html": [
       "<div>\n",
       "<style scoped>\n",
       "    .dataframe tbody tr th:only-of-type {\n",
       "        vertical-align: middle;\n",
       "    }\n",
       "\n",
       "    .dataframe tbody tr th {\n",
       "        vertical-align: top;\n",
       "    }\n",
       "\n",
       "    .dataframe thead th {\n",
       "        text-align: right;\n",
       "    }\n",
       "</style>\n",
       "<table border=\"1\" class=\"dataframe\">\n",
       "  <thead>\n",
       "    <tr style=\"text-align: right;\">\n",
       "      <th></th>\n",
       "      <th>words</th>\n",
       "      <th>counts</th>\n",
       "    </tr>\n",
       "  </thead>\n",
       "  <tbody>\n",
       "    <tr>\n",
       "      <th>0</th>\n",
       "      <td>i</td>\n",
       "      <td>190.0</td>\n",
       "    </tr>\n",
       "    <tr>\n",
       "      <th>1</th>\n",
       "      <td>you</td>\n",
       "      <td>127.0</td>\n",
       "    </tr>\n",
       "    <tr>\n",
       "      <th>2</th>\n",
       "      <td>she</td>\n",
       "      <td>88.0</td>\n",
       "    </tr>\n",
       "    <tr>\n",
       "      <th>3</th>\n",
       "      <td>popular</td>\n",
       "      <td>72.0</td>\n",
       "    </tr>\n",
       "    <tr>\n",
       "      <th>4</th>\n",
       "      <td>yeah</td>\n",
       "      <td>63.0</td>\n",
       "    </tr>\n",
       "    <tr>\n",
       "      <th>...</th>\n",
       "      <td>...</td>\n",
       "      <td>...</td>\n",
       "    </tr>\n",
       "    <tr>\n",
       "      <th>798</th>\n",
       "      <td>mission</td>\n",
       "      <td>1.0</td>\n",
       "    </tr>\n",
       "    <tr>\n",
       "      <th>799</th>\n",
       "      <td>necktie</td>\n",
       "      <td>1.0</td>\n",
       "    </tr>\n",
       "    <tr>\n",
       "      <th>800</th>\n",
       "      <td>happen</td>\n",
       "      <td>1.0</td>\n",
       "    </tr>\n",
       "    <tr>\n",
       "      <th>801</th>\n",
       "      <td>note</td>\n",
       "      <td>1.0</td>\n",
       "    </tr>\n",
       "    <tr>\n",
       "      <th>802</th>\n",
       "      <td>íto</td>\n",
       "      <td>1.0</td>\n",
       "    </tr>\n",
       "  </tbody>\n",
       "</table>\n",
       "<p>803 rows × 2 columns</p>\n",
       "</div>"
      ],
      "text/plain": [
       "       words  counts\n",
       "0          i   190.0\n",
       "1        you   127.0\n",
       "2        she    88.0\n",
       "3    popular    72.0\n",
       "4       yeah    63.0\n",
       "..       ...     ...\n",
       "798  mission     1.0\n",
       "799  necktie     1.0\n",
       "800   happen     1.0\n",
       "801     note     1.0\n",
       "802      íto     1.0\n",
       "\n",
       "[803 rows x 2 columns]"
      ]
     },
     "execution_count": 462,
     "metadata": {},
     "output_type": "execute_result"
    }
   ],
   "source": [
    "sample_lyrics = os.listdir('./2023_lyrics/')[ : 10]\n",
    "\n",
    "dji_df = pd.DataFrame()\n",
    "for i in sample_lyrics:\n",
    "    filepath = f'./2023_lyrics/{i}'\n",
    "    # print(i)\n",
    "    df1 = lyrics_to_df(filepath)\n",
    "    if (dji_df.shape[1] != 2):\n",
    "        dji_df = count_occurances(df1)\n",
    "    dji_df = count_occurances(dji_df, df1)\n",
    "\n",
    "dji_df"
   ]
  },
  {
   "cell_type": "code",
   "execution_count": 463,
   "metadata": {},
   "outputs": [],
   "source": [
    "lyrics_dir = os.listdir('./')\n",
    "lyrics_dir = list(filter(lambda x : os.path.isdir(x), lyrics_dir))\n",
    "\n",
    "\n",
    "df_lyrics_occ = {}\n",
    "## loops through all lyrics files \n",
    "for playlists in lyrics_dir:\n",
    "    god_dir = '/Users/samuellee/_codes/dspj_musicsoci/spotify'\n",
    "    dir = f'{god_dir}/{playlists}'\n",
    "    plst = os.listdir(dir)\n",
    "    dji_df = pd.DataFrame()\n",
    "    for lyrics in plst:\n",
    "        try:\n",
    "            filepath = f'{dir}/{lyrics}'\n",
    "            df1 = lyrics_to_df(filepath)\n",
    "            if (dji_df.shape[1] != 2):\n",
    "                dji_df = count_occurances(df1)\n",
    "            dji_df = count_occurances(dji_df, df1)\n",
    "        except:\n",
    "            print('error at ' + lyrics + ' in ' + playlists)\n",
    "    \n",
    "    df_lyrics_occ[playlists] = dji_df"
   ]
  },
  {
   "cell_type": "code",
   "execution_count": 464,
   "metadata": {},
   "outputs": [
    {
     "data": {
      "text/html": [
       "<div>\n",
       "<style scoped>\n",
       "    .dataframe tbody tr th:only-of-type {\n",
       "        vertical-align: middle;\n",
       "    }\n",
       "\n",
       "    .dataframe tbody tr th {\n",
       "        vertical-align: top;\n",
       "    }\n",
       "\n",
       "    .dataframe thead th {\n",
       "        text-align: right;\n",
       "    }\n",
       "</style>\n",
       "<table border=\"1\" class=\"dataframe\">\n",
       "  <thead>\n",
       "    <tr style=\"text-align: right;\">\n",
       "      <th></th>\n",
       "      <th>words</th>\n",
       "      <th>counts</th>\n",
       "    </tr>\n",
       "  </thead>\n",
       "  <tbody>\n",
       "    <tr>\n",
       "      <th>0</th>\n",
       "      <td>i</td>\n",
       "      <td>42.0</td>\n",
       "    </tr>\n",
       "    <tr>\n",
       "      <th>1</th>\n",
       "      <td>ayy</td>\n",
       "      <td>39.0</td>\n",
       "    </tr>\n",
       "    <tr>\n",
       "      <th>2</th>\n",
       "      <td>you</td>\n",
       "      <td>38.0</td>\n",
       "    </tr>\n",
       "    <tr>\n",
       "      <th>3</th>\n",
       "      <td>fikki</td>\n",
       "      <td>24.0</td>\n",
       "    </tr>\n",
       "    <tr>\n",
       "      <th>4</th>\n",
       "      <td>minute</td>\n",
       "      <td>24.0</td>\n",
       "    </tr>\n",
       "    <tr>\n",
       "      <th>...</th>\n",
       "      <td>...</td>\n",
       "      <td>...</td>\n",
       "    </tr>\n",
       "    <tr>\n",
       "      <th>98</th>\n",
       "      <td>tonight</td>\n",
       "      <td>1.0</td>\n",
       "    </tr>\n",
       "    <tr>\n",
       "      <th>99</th>\n",
       "      <td>wan</td>\n",
       "      <td>1.0</td>\n",
       "    </tr>\n",
       "    <tr>\n",
       "      <th>100</th>\n",
       "      <td>waste</td>\n",
       "      <td>1.0</td>\n",
       "    </tr>\n",
       "    <tr>\n",
       "      <th>101</th>\n",
       "      <td>way</td>\n",
       "      <td>1.0</td>\n",
       "    </tr>\n",
       "    <tr>\n",
       "      <th>102</th>\n",
       "      <td>woah-woah-oh</td>\n",
       "      <td>1.0</td>\n",
       "    </tr>\n",
       "  </tbody>\n",
       "</table>\n",
       "<p>103 rows × 2 columns</p>\n",
       "</div>"
      ],
      "text/plain": [
       "            words  counts\n",
       "0               i    42.0\n",
       "1             ayy    39.0\n",
       "2             you    38.0\n",
       "3           fikki    24.0\n",
       "4          minute    24.0\n",
       "..            ...     ...\n",
       "98        tonight     1.0\n",
       "99            wan     1.0\n",
       "100         waste     1.0\n",
       "101           way     1.0\n",
       "102  woah-woah-oh     1.0\n",
       "\n",
       "[103 rows x 2 columns]"
      ]
     },
     "execution_count": 464,
     "metadata": {},
     "output_type": "execute_result"
    }
   ],
   "source": [
    "# scaffolding\n",
    "\n",
    "a = lyrics_to_df('./2008_lyrics/4 Minutes (feat. Justin Timberlake & Timbaland)_Madonna.txt')\n",
    "b = lyrics_to_df('./2008_lyrics/Apologize_Timbaland.txt')\n",
    "\n",
    "count_occurances(a, b)"
   ]
  },
  {
   "cell_type": "markdown",
   "metadata": {},
   "source": [
    "# Proving that there is a trend within Popular Music"
   ]
  },
  {
   "cell_type": "markdown",
   "metadata": {},
   "source": [
    "the underlying assumption we had when conducting this research was that popular music follows a certain trend that encompasses the trend of society in general. Hence, it would be safe to assume that each playlist contains a trend in its own - leading to the similarity of given lyrics.\n",
    "\n",
    "To prove this assumption and conduct further research based on it, we will run a cosine similarity test on the given corpora. "
   ]
  },
  {
   "cell_type": "code",
   "execution_count": 465,
   "metadata": {},
   "outputs": [],
   "source": [
    "def cosine_sim(list1 : list, list2 : list) -> float:\n",
    "    return np.dot(list1, list2) / (np.linalg.norm(list1) * np.linalg.norm(list2))\n",
    "\n",
    "\n",
    "def dtm_to_cosine_sim(df1 : pd.DataFrame, df2 : pd.DataFrame) -> float:\n",
    "    combined = pd.merge(df1, df2, on='words', how='outer').replace(np.NaN, 0)\n",
    "    list1_raw = combined.counts_x\n",
    "    list2_raw = combined.counts_y\n",
    "    return cosine_sim(list1_raw, list2_raw)\n"
   ]
  },
  {
   "cell_type": "code",
   "execution_count": 665,
   "metadata": {},
   "outputs": [],
   "source": [
    "def cos_sim_corpus(year : int):\n",
    "    plst = os.listdir(f'./{str(year)}_lyrics/')\n",
    "\n",
    "    lyrics_list = []\n",
    "\n",
    "    for lyrics in plst:\n",
    "        try:\n",
    "            filepath = f'./{str(year)}_lyrics/{lyrics}'\n",
    "            dji_df = lyrics_to_df(filepath)\n",
    "            lyrics_list.append(dji_df)\n",
    "        except:\n",
    "            print('error at ' + lyrics + ' in ' + playlists)\n",
    "\n",
    "    # code for average cosine\n",
    "    cos = 0\n",
    "\n",
    "    for i in range(len(lyrics_list) - 1):\n",
    "        j = i + 1\n",
    "        while len(lyrics_list) - j - 1 != 0:\n",
    "            a = dtm_to_cosine_sim(lyrics_list[i], lyrics_list[j])\n",
    "            cos += a\n",
    "        #print(i)\n",
    "        #print(j)\n",
    "            j += 1\n",
    "\n",
    "    sigma_sum = lambda start, end, expression = lambda x : x + 1 : sum(expression(i) for i in range(start, end))\n",
    "    cos_sim = round(cos / sigma_sum(0, len(lyrics_list) - 1), 3)\n",
    "    return cos_sim"
   ]
  },
  {
   "cell_type": "code",
   "execution_count": 676,
   "metadata": {},
   "outputs": [
    {
     "name": "stdout",
     "output_type": "stream",
     "text": [
      "2009 :\t 0.343\n",
      "2010 :\t 0.336\n",
      "2011 :\t 0.352\n",
      "2012 :\t 0.332\n",
      "2013 :\t 0.333\n",
      "2014 :\t 0.367\n",
      "2015 :\t 0.375\n",
      "2016 :\t 0.364\n",
      "2017 :\t 0.359\n",
      "2018 :\t 0.355\n",
      "2019 :\t 0.414\n",
      "2020 :\t 0.352\n",
      "2021 :\t 0.391\n",
      "2022 :\t 0.229\n",
      "2023 :\t 0.246\n"
     ]
    }
   ],
   "source": [
    "for yr in range(2009, 2024):\n",
    "    print(yr, ':\\t', cos_sim_corpus(yr))"
   ]
  },
  {
   "cell_type": "code",
   "execution_count": null,
   "metadata": {},
   "outputs": [],
   "source": []
  },
  {
   "cell_type": "code",
   "execution_count": null,
   "metadata": {},
   "outputs": [],
   "source": []
  },
  {
   "cell_type": "markdown",
   "metadata": {},
   "source": [
    "# Analysis on Corpora as a Whole"
   ]
  },
  {
   "cell_type": "markdown",
   "metadata": {},
   "source": [
    "## different places in lyrics\n",
    "\n",
    "It would also be interesting to note the toponyms in song lyrics, such as in Jay-Z's 'Empire State of Mind', or 'Paris in the Rain'. \n",
    "therefore, I created a list of toponyms for analysis\n",
    "\n",
    "Note that New York is truncated to 'York'. Despite there being another city in England with the name York (which actually is the namesake of New York), I believe it is quite reasonable to assume when 'york' is used, it referrs to New York City."
   ]
  },
  {
   "cell_type": "code",
   "execution_count": 647,
   "metadata": {},
   "outputs": [
    {
     "data": {
      "image/png": "[encoded data removed]",
      "text/plain": [
       "<Figure size 640x480 with 1 Axes>"
      ]
     },
     "metadata": {},
     "output_type": "display_data"
    }
   ],
   "source": [
    "cities = [x.split(' ')[1].lower()  if re.search('\\s+', x) else x.lower() for x in pd.read_csv('./cities.csv').city]\n",
    "\n",
    "full_lyrics_occ_df = pd.DataFrame()\n",
    "df_base = pd.DataFrame({'words' : [], 'counts' : []})\n",
    "\n",
    "\n",
    "for years in df_lyrics_occ.values():\n",
    "    if full_lyrics_occ_df.shape[1] != 2:\n",
    "        full_lyrics_occ_df = count_occurances(years)\n",
    "    else:\n",
    "        full_lyrics_occ_df = count_occurances(full_lyrics_occ_df, years)\n",
    "    \n",
    "\n",
    "cities_df = full_lyrics_occ_df.loc[full_lyrics_occ_df.words.isin(cities)]\n",
    "cities_df.index = range(cities_df.shape[0])\n",
    "\n",
    "# after viewing 36 rows, which seems to be manageable by personal effort, I decided to drop some words that presumably do not refer to city names\n",
    "# such as 'worth'. As there is more reason to assume it does not refer to the city of Fort Worth.\n",
    "\n",
    "cities_df = cities_df.drop(index=[1, 3, 5, 6, 13, 16, 27, 32])[ : 10].drop(columns='words')\n",
    "cities_df.index = range(cities_df.shape[0])\n",
    "cities_df = pd.concat([cities_df, pd.DataFrame({'cities' : ['New York', 'Miami', 'Atlanta', 'Los Angeles', 'Charlotte', 'Chicago', 'Houston', 'Dallas', 'New Orleans', 'Cleveland']})], axis=1)\n",
    "#print(cities_df)\n",
    "\n",
    "plt.title('cities appearing in popular music')\n",
    "cols = ['green' if (x > cities_df.counts[3]) else 'gray' for x in cities_df.counts]\n",
    "sns.barplot(data = cities_df, x = 'counts', y = 'cities', palette=cols)\n",
    "plt.show()"
   ]
  },
  {
   "cell_type": "markdown",
   "metadata": {},
   "source": [
    "## different occupations in lyrics"
   ]
  },
  {
   "cell_type": "code",
   "execution_count": 646,
   "metadata": {},
   "outputs": [
    {
     "data": {
      "image/png": "[encoded data removed]",
      "text/plain": [
       "<Figure size 640x480 with 1 Axes>"
      ]
     },
     "metadata": {},
     "output_type": "display_data"
    },
    {
     "name": "stdout",
     "output_type": "stream",
     "text": [
      "      words  counts\n",
      "0    dancer    20.0\n",
      "1     judge    14.0\n",
      "2    artist    13.0\n",
      "3     guide    10.0\n",
      "4  designer    10.0\n",
      "5   jeweler     9.0\n",
      "6    driver     9.0\n",
      "7    police     8.0\n",
      "8     usher     7.0\n",
      "9    lawyer     7.0\n"
     ]
    }
   ],
   "source": [
    "jobs = open('./jobs.csv').read()\n",
    "# source: https://gist.github.com/wsc/1083459\n",
    "\n",
    "jobs = [w.split(' ')[-1].lower() if re.search('\\s+', w) else w.lower() for w in jobs.split('\\n')]\n",
    "\n",
    "jobs_df = full_lyrics_occ_df.loc[full_lyrics_occ_df.words.isin(jobs)]\n",
    "jobs_df.index = range(jobs_df.shape[0])\n",
    "\n",
    "plt.title('occupations appearing in popular music')\n",
    "cols = ['green' if (x > jobs_df.counts[3]) else 'gray' for x in jobs_df.counts]\n",
    "sns.barplot(data = jobs_df[ : 10], x = 'counts', y = 'words', palette=cols)\n",
    "plt.ylabel('jobs')\n",
    "plt.show()\n",
    "print(jobs_df[: 10])"
   ]
  },
  {
   "cell_type": "markdown",
   "metadata": {},
   "source": [
    "# Analysis on Corpus"
   ]
  },
  {
   "cell_type": "markdown",
   "metadata": {},
   "source": [
    "## You vs. I"
   ]
  },
  {
   "cell_type": "code",
   "execution_count": 654,
   "metadata": {},
   "outputs": [
    {
     "name": "stdout",
     "output_type": "stream",
     "text": [
      "calculation of rate = (# of i - # of you) / # of you\n"
     ]
    },
    {
     "data": {
      "image/png": "[encoded data removed]",
      "text/plain": [
       "<Figure size 1000x600 with 1 Axes>"
      ]
     },
     "metadata": {},
     "output_type": "display_data"
    }
   ],
   "source": [
    "you_v_i = pd.DataFrame({'year' : [], 'you' : [], 'i' : [], 'rate' : []})\n",
    "for key, val in df_lyrics_occ.items():\n",
    "    year_of_analysis = int(re.search('\\d\\d\\d\\d', key)[0])\n",
    "    you = int(val.loc[val.words == 'you'].counts.values[0])\n",
    "    i = int(val.loc[val.words == 'i'].counts.values[0])\n",
    "    rate = (i - you) / you\n",
    " \n",
    "    you_v_i = pd.concat([you_v_i, pd.DataFrame({'year' : year_of_analysis, 'you' : you, 'i' : i, 'rate' : rate}, index=[0])])\n",
    "\n",
    "you_v_i = you_v_i.set_index('year')\n",
    "you_v_i = you_v_i.sort_index()\n",
    "\n",
    "plt.figure(figsize=(10, 6))\n",
    "# question at hand: by how more percentage is there i than you\n",
    "# (you - i)/you\n",
    "print('calculation of rate = (# of i - # of you) / # of you')\n",
    "sns.lineplot(data = you_v_i, x = you_v_i.index, y = you_v_i.rate, color='g')\n",
    "plt.title('ratio of You vs. I in popular lyrics', **avenir)\n",
    "plt.yticks(**jbmono)\n",
    "plt.xticks(range(2008, 2024, 1), **jbmono)\n",
    "plt.hlines(0.0, 2008, 2023, color='r', linestyles='--')\n",
    "#plt.text( 2010, 0.6, '* ratio = \\n(# of \"I\" / # of \"You) / # of \"You\"', **jbmono)\n",
    "yr = 2008\n",
    "for rate in you_v_i['rate']:\n",
    "    plt.text(yr, rate, round(rate, 2), **jbmono, **{'size' : 10})\n",
    "    yr += 1\n",
    "\n",
    "plt.ylabel('ratio', **jbmono)\n",
    "plt.xlabel('year of analysis', **jbmono)\n",
    "\n",
    "plt.show()"
   ]
  },
  {
   "cell_type": "markdown",
   "metadata": {},
   "source": [
    "## Love as a Recurring Theme"
   ]
  },
  {
   "cell_type": "code",
   "execution_count": 660,
   "metadata": {},
   "outputs": [
    {
     "data": {
      "text/html": [
       "<div>\n",
       "<style scoped>\n",
       "    .dataframe tbody tr th:only-of-type {\n",
       "        vertical-align: middle;\n",
       "    }\n",
       "\n",
       "    .dataframe tbody tr th {\n",
       "        vertical-align: top;\n",
       "    }\n",
       "\n",
       "    .dataframe thead th {\n",
       "        text-align: right;\n",
       "    }\n",
       "</style>\n",
       "<table border=\"1\" class=\"dataframe\">\n",
       "  <thead>\n",
       "    <tr style=\"text-align: right;\">\n",
       "      <th></th>\n",
       "      <th>2008</th>\n",
       "      <th>2009</th>\n",
       "      <th>2010</th>\n",
       "      <th>2011</th>\n",
       "      <th>2012</th>\n",
       "      <th>2013</th>\n",
       "      <th>2014</th>\n",
       "      <th>2015</th>\n",
       "      <th>2016</th>\n",
       "      <th>2017</th>\n",
       "      <th>2018</th>\n",
       "      <th>2019</th>\n",
       "      <th>2020</th>\n",
       "      <th>2021</th>\n",
       "      <th>2022</th>\n",
       "      <th>2023</th>\n",
       "    </tr>\n",
       "  </thead>\n",
       "  <tbody>\n",
       "    <tr>\n",
       "      <th>rank</th>\n",
       "      <td>13.0</td>\n",
       "      <td>6.0</td>\n",
       "      <td>4.0</td>\n",
       "      <td>7.0</td>\n",
       "      <td>4.0</td>\n",
       "      <td>4.0</td>\n",
       "      <td>3.0</td>\n",
       "      <td>3.0</td>\n",
       "      <td>12.0</td>\n",
       "      <td>8.0</td>\n",
       "      <td>8.0</td>\n",
       "      <td>4.0</td>\n",
       "      <td>16.0</td>\n",
       "      <td>9.0</td>\n",
       "      <td>5.0</td>\n",
       "      <td>10.0</td>\n",
       "    </tr>\n",
       "  </tbody>\n",
       "</table>\n",
       "</div>"
      ],
      "text/plain": [
       "      2008  2009  2010  2011  2012  2013  2014  2015  2016  2017  2018  2019  \\\n",
       "rank  13.0   6.0   4.0   7.0   4.0   4.0   3.0   3.0  12.0   8.0   8.0   4.0   \n",
       "\n",
       "      2020  2021  2022  2023  \n",
       "rank  16.0   9.0   5.0  10.0  "
      ]
     },
     "execution_count": 660,
     "metadata": {},
     "output_type": "execute_result"
    }
   ],
   "source": [
    "lv = pd.DataFrame({'rank' : []})\n",
    "\n",
    "for yr, love in df_lyrics_occ.items():\n",
    "    year = int(re.search('\\d\\d\\d\\d', yr)[0])\n",
    "    love_rank = love.loc[love.words == 'love'].index[0] + 1\n",
    "\n",
    "    ldf = pd.DataFrame({'rank' : love_rank}, index=[year])\n",
    "    lv = pd.concat([lv, ldf], axis = 0)\n",
    "    lv = lv.sort_index()\n",
    "\n",
    "lv.T\n"
   ]
  },
  {
   "cell_type": "code",
   "execution_count": 658,
   "metadata": {},
   "outputs": [
    {
     "data": {
      "text/html": [
       "<div>\n",
       "<style scoped>\n",
       "    .dataframe tbody tr th:only-of-type {\n",
       "        vertical-align: middle;\n",
       "    }\n",
       "\n",
       "    .dataframe tbody tr th {\n",
       "        vertical-align: top;\n",
       "    }\n",
       "\n",
       "    .dataframe thead th {\n",
       "        text-align: right;\n",
       "    }\n",
       "</style>\n",
       "<table border=\"1\" class=\"dataframe\">\n",
       "  <thead>\n",
       "    <tr style=\"text-align: right;\">\n",
       "      <th></th>\n",
       "      <th>words</th>\n",
       "      <th>counts</th>\n",
       "    </tr>\n",
       "  </thead>\n",
       "  <tbody>\n",
       "    <tr>\n",
       "      <th>0</th>\n",
       "      <td>i</td>\n",
       "      <td>1252.0</td>\n",
       "    </tr>\n",
       "    <tr>\n",
       "      <th>1</th>\n",
       "      <td>you</td>\n",
       "      <td>1198.0</td>\n",
       "    </tr>\n",
       "    <tr>\n",
       "      <th>2</th>\n",
       "      <td>like</td>\n",
       "      <td>245.0</td>\n",
       "    </tr>\n",
       "    <tr>\n",
       "      <th>3</th>\n",
       "      <td>yeah</td>\n",
       "      <td>199.0</td>\n",
       "    </tr>\n",
       "    <tr>\n",
       "      <th>4</th>\n",
       "      <td>can</td>\n",
       "      <td>198.0</td>\n",
       "    </tr>\n",
       "    <tr>\n",
       "      <th>5</th>\n",
       "      <td>know</td>\n",
       "      <td>190.0</td>\n",
       "    </tr>\n",
       "    <tr>\n",
       "      <th>6</th>\n",
       "      <td>just</td>\n",
       "      <td>190.0</td>\n",
       "    </tr>\n",
       "    <tr>\n",
       "      <th>7</th>\n",
       "      <td>now</td>\n",
       "      <td>157.0</td>\n",
       "    </tr>\n",
       "    <tr>\n",
       "      <th>8</th>\n",
       "      <td>she</td>\n",
       "      <td>143.0</td>\n",
       "    </tr>\n",
       "    <tr>\n",
       "      <th>9</th>\n",
       "      <td>don</td>\n",
       "      <td>136.0</td>\n",
       "    </tr>\n",
       "    <tr>\n",
       "      <th>10</th>\n",
       "      <td>take</td>\n",
       "      <td>127.0</td>\n",
       "    </tr>\n",
       "    <tr>\n",
       "      <th>11</th>\n",
       "      <td>boy</td>\n",
       "      <td>127.0</td>\n",
       "    </tr>\n",
       "    <tr>\n",
       "      <th>12</th>\n",
       "      <td>love</td>\n",
       "      <td>120.0</td>\n",
       "    </tr>\n",
       "  </tbody>\n",
       "</table>\n",
       "</div>"
      ],
      "text/plain": [
       "   words  counts\n",
       "0      i  1252.0\n",
       "1    you  1198.0\n",
       "2   like   245.0\n",
       "3   yeah   199.0\n",
       "4    can   198.0\n",
       "5   know   190.0\n",
       "6   just   190.0\n",
       "7    now   157.0\n",
       "8    she   143.0\n",
       "9    don   136.0\n",
       "10  take   127.0\n",
       "11   boy   127.0\n",
       "12  love   120.0"
      ]
     },
     "execution_count": 658,
     "metadata": {},
     "output_type": "execute_result"
    }
   ],
   "source": [
    "df_lyrics_occ['2008_lyrics'][:13]"
   ]
  },
  {
   "cell_type": "code",
   "execution_count": 571,
   "metadata": {},
   "outputs": [],
   "source": [
    "def token_to_search(token : str) -> pd.DataFrame:\n",
    "    df = pd.DataFrame({'year' : [], 'counts' : []})\n",
    "    df.index.name = token\n",
    "    for keys, years in df_lyrics_occ.items():\n",
    "        year_of_analysis = int(re.search('\\d\\d\\d\\d', keys)[0])\n",
    "        try:\n",
    "            occ = list(years.loc[years.words == token].counts)[0]  \n",
    "        except:\n",
    "            occ = 0  \n",
    "        df_new = pd.DataFrame({'year' : year_of_analysis, 'counts' : occ}, index=[0])\n",
    "        \n",
    "\n",
    "        df = pd.concat([df, df_new])\n",
    "    df = df.set_index('year')\n",
    "    df = df.sort_index()\n",
    "    return df"
   ]
  },
  {
   "cell_type": "code",
   "execution_count": 643,
   "metadata": {},
   "outputs": [
    {
     "data": {
      "text/plain": [
       "Text(2005, 5, 'source: Yahoo Finance')"
      ]
     },
     "execution_count": 643,
     "metadata": {},
     "output_type": "execute_result"
    },
    {
     "data": {
      "image/png": "[encoded data removed]",
      "text/plain": [
       "<Figure size 640x480 with 2 Axes>"
      ]
     },
     "metadata": {},
     "output_type": "display_data"
    }
   ],
   "source": [
    "a = token_to_search('money')\n",
    "# a = pd.DataFrame({'a' : [1, 2, 3], 'b' : [1, 2,3]})\n",
    "# a.index.name = 'abc'\n",
    "# a['a'].append(10)\n",
    "year = list(a.index)\n",
    "\n",
    "# word count \n",
    "money_occ = list(a.counts)\n",
    "\n",
    "# dow-jones index\n",
    "dji_df = pd.read_csv('./dji.csv')[['Date', 'Open']]\n",
    "date_to_float = lambda x : int(re.search('\\d\\d\\d\\d-*\\d\\d', x)[0].split('-')[0]) + int(re.search('\\d\\d\\d\\d-*\\d\\d', x)[0].split('-')[1]) / 13\n",
    "dji_df['Date'] = dji_df.Date.map(date_to_float)\n",
    "\n",
    "year_dji = dji_df['Date']\n",
    "dji_index = dji_df['Open']\n",
    "\n",
    "fig, ax1 = plt.subplots()\n",
    "\n",
    "# Create the first y-axis (left)\n",
    "color = 'tab:green'\n",
    "ax1.set_xlabel('year', **jbmono)\n",
    "ax1.set_ylabel('word count', color=color, **jbmono)\n",
    "line1 = ax1.plot(year, money_occ, color=color, label='word count (money)')\n",
    "ax1.tick_params(axis='y', labelcolor=color)\n",
    "\n",
    "# Create the second y-axis (right)\n",
    "ax2 = ax1.twinx()\n",
    "color = 'tab:blue'\n",
    "ax2.set_ylabel('dow-jones index', color=color, **jbmono)\n",
    "line2 = ax2.plot(year_dji, dji_index, color=color, label='DJI')\n",
    "ax2.tick_params(axis='y', labelcolor=color)\n",
    "\n",
    "plt.text(2005, 5, 'source: Yahoo Finance')"
   ]
  },
  {
   "cell_type": "code",
   "execution_count": 653,
   "metadata": {},
   "outputs": [
    {
     "data": {
      "text/html": [
       "<div>\n",
       "<style scoped>\n",
       "    .dataframe tbody tr th:only-of-type {\n",
       "        vertical-align: middle;\n",
       "    }\n",
       "\n",
       "    .dataframe tbody tr th {\n",
       "        vertical-align: top;\n",
       "    }\n",
       "\n",
       "    .dataframe thead th {\n",
       "        text-align: right;\n",
       "    }\n",
       "</style>\n",
       "<table border=\"1\" class=\"dataframe\">\n",
       "  <thead>\n",
       "    <tr style=\"text-align: right;\">\n",
       "      <th></th>\n",
       "      <th>counts</th>\n",
       "    </tr>\n",
       "    <tr>\n",
       "      <th>year</th>\n",
       "      <th></th>\n",
       "    </tr>\n",
       "  </thead>\n",
       "  <tbody>\n",
       "    <tr>\n",
       "      <th>2008.0</th>\n",
       "      <td>20.0</td>\n",
       "    </tr>\n",
       "    <tr>\n",
       "      <th>2009.0</th>\n",
       "      <td>32.0</td>\n",
       "    </tr>\n",
       "    <tr>\n",
       "      <th>2010.0</th>\n",
       "      <td>32.0</td>\n",
       "    </tr>\n",
       "    <tr>\n",
       "      <th>2011.0</th>\n",
       "      <td>14.0</td>\n",
       "    </tr>\n",
       "    <tr>\n",
       "      <th>2012.0</th>\n",
       "      <td>14.0</td>\n",
       "    </tr>\n",
       "    <tr>\n",
       "      <th>2013.0</th>\n",
       "      <td>15.0</td>\n",
       "    </tr>\n",
       "    <tr>\n",
       "      <th>2014.0</th>\n",
       "      <td>18.0</td>\n",
       "    </tr>\n",
       "    <tr>\n",
       "      <th>2015.0</th>\n",
       "      <td>5.0</td>\n",
       "    </tr>\n",
       "    <tr>\n",
       "      <th>2016.0</th>\n",
       "      <td>14.0</td>\n",
       "    </tr>\n",
       "    <tr>\n",
       "      <th>2017.0</th>\n",
       "      <td>31.0</td>\n",
       "    </tr>\n",
       "    <tr>\n",
       "      <th>2018.0</th>\n",
       "      <td>10.0</td>\n",
       "    </tr>\n",
       "    <tr>\n",
       "      <th>2019.0</th>\n",
       "      <td>10.0</td>\n",
       "    </tr>\n",
       "    <tr>\n",
       "      <th>2020.0</th>\n",
       "      <td>14.0</td>\n",
       "    </tr>\n",
       "    <tr>\n",
       "      <th>2021.0</th>\n",
       "      <td>37.0</td>\n",
       "    </tr>\n",
       "    <tr>\n",
       "      <th>2022.0</th>\n",
       "      <td>5.0</td>\n",
       "    </tr>\n",
       "    <tr>\n",
       "      <th>2023.0</th>\n",
       "      <td>15.0</td>\n",
       "    </tr>\n",
       "  </tbody>\n",
       "</table>\n",
       "</div>"
      ],
      "text/plain": [
       "        counts\n",
       "year          \n",
       "2008.0    20.0\n",
       "2009.0    32.0\n",
       "2010.0    32.0\n",
       "2011.0    14.0\n",
       "2012.0    14.0\n",
       "2013.0    15.0\n",
       "2014.0    18.0\n",
       "2015.0     5.0\n",
       "2016.0    14.0\n",
       "2017.0    31.0\n",
       "2018.0    10.0\n",
       "2019.0    10.0\n",
       "2020.0    14.0\n",
       "2021.0    37.0\n",
       "2022.0     5.0\n",
       "2023.0    15.0"
      ]
     },
     "execution_count": 653,
     "metadata": {},
     "output_type": "execute_result"
    }
   ],
   "source": [
    "token_to_search('new')"
   ]
  },
  {
   "cell_type": "code",
   "execution_count": 638,
   "metadata": {},
   "outputs": [
    {
     "data": {
      "text/plain": [
       "2010.923076923077"
      ]
     },
     "execution_count": 638,
     "metadata": {},
     "output_type": "execute_result"
    }
   ],
   "source": []
  },
  {
   "cell_type": "code",
   "execution_count": 637,
   "metadata": {},
   "outputs": [
    {
     "data": {
      "text/plain": [
       "0.08333333333333333"
      ]
     },
     "execution_count": 637,
     "metadata": {},
     "output_type": "execute_result"
    }
   ],
   "source": []
  },
  {
   "cell_type": "code",
   "execution_count": null,
   "metadata": {},
   "outputs": [],
   "source": []
  }
 ],
 "metadata": {
  "kernelspec": {
   "display_name": "base",
   "language": "python",
   "name": "python3"
  },
  "language_info": {
   "codemirror_mode": {
    "name": "ipython",
    "version": 3
   },
   "file_extension": ".py",
   "mimetype": "text/x-python",
   "name": "python",
   "nbconvert_exporter": "python",
   "pygments_lexer": "ipython3",
   "version": "3.11.5"
  }
 },
 "nbformat": 4,
 "nbformat_minor": 2
}
